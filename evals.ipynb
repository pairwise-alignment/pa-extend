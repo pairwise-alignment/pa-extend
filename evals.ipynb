{
 "cells": [
  {
   "cell_type": "code",
   "execution_count": null,
   "metadata": {},
   "outputs": [],
   "source": [
    "import numpy as np\n",
    "import math\n",
    "import warnings\n",
    "warnings.simplefilter(action='ignore', category=FutureWarning)\n",
    "warnings.simplefilter(action='once', category=UserWarning)\n",
    "import pandas as pd\n",
    "import seaborn as sns\n",
    "import matplotlib.pyplot as plt\n",
    "import matplotlib.ticker as mtick\n",
    "import json\n",
    "from pathlib import Path"
   ]
  },
  {
   "cell_type": "code",
   "execution_count": null,
   "metadata": {},
   "outputs": [],
   "source": [
    "pd.set_option(\"display.max_rows\", 200)\n",
    "pd.set_option(\"display.max_columns\", 100)\n",
    "pd.set_option(\"display.width\", 1000)"
   ]
  },
  {
   "cell_type": "code",
   "execution_count": null,
   "metadata": {},
   "outputs": [],
   "source": [
    "algs = ['zip_safe', 'scalar', 'u64_xor', 'u64_eq', 's256_xor', 's256_eq']\n",
    "def read_results():\n",
    "    # Run `just json` to create this file.\n",
    "    json_path = Path('results/bench.json')\n",
    "    data = json.loads(json_path.read_text())\n",
    "    df = pd.json_normalize(data, sep='_')\n",
    "    \n",
    "    df = df.rename({'mean': 'time'}, axis='columns')\n",
    "    \n",
    "    # Computed columns\n",
    "    df['e'] = df.apply(lambda row: float(row['id'].split('/')[0]), axis=1)\n",
    "    df['alg'] = df.apply(lambda row: row['id'].split('/')[1], axis=1)\n",
    "    df = df.drop('id', axis=1)\n",
    "    df['alg_idx'] = df.apply(lambda row: algs.index(row['alg']), axis=1)\n",
    "    df.sort_values(by='alg_idx')\n",
    "   \n",
    "    return df\n",
    "df = read_results()"
   ]
  },
  {
   "cell_type": "code",
   "execution_count": null,
   "metadata": {
    "scrolled": false
   },
   "outputs": [],
   "source": [
    "p = df.pivot_table(columns='alg', index='e', values='time', sort=False)\n",
    "ax = p.plot(logx=True, ylim=(0,1000))\n",
    "ax.set_xlabel('error rate')\n",
    "ax.set_xticks([0.002, 0.01, 0.1, 1])\n",
    "ax.set_xticklabels(['0.002', '0.01', '0.10', '1.00'])\n",
    "ax.set_ylabel('time per 100 calls (ns)')\n",
    "plt.savefig(f\"plots/bench\", dpi=300, bbox_inches='tight')\n",
    "plt.show()"
   ]
  }
 ],
 "metadata": {
  "kernelspec": {
   "display_name": "Python 3 (ipykernel)",
   "language": "python",
   "name": "python3"
  },
  "language_info": {
   "codemirror_mode": {
    "name": "ipython",
    "version": 3
   },
   "file_extension": ".py",
   "mimetype": "text/x-python",
   "name": "python",
   "nbconvert_exporter": "python",
   "pygments_lexer": "ipython3",
   "version": "3.11.3"
  },
  "name": "evals.ipynb"
 },
 "nbformat": 4,
 "nbformat_minor": 4
}
